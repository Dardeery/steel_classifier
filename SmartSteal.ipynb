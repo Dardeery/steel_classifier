{
 "cells": [
  {
   "cell_type": "code",
   "execution_count": 10,
   "metadata": {},
   "outputs": [],
   "source": [
    "## Smart Steal Task"
   ]
  },
  {
   "cell_type": "raw",
   "metadata": {},
   "source": [
    "The file task_data.csv \n",
    "contains an example classification dataset. \n",
    "The set \n",
    "consists of 6622 samples and 6 different feature columns. \n",
    "'defect_type' is  the target column, \n",
    "in other words, the 'defect_type' defines which particular \n",
    "class that a particular sample belongs to. The 'dataset' column defines if \n",
    "a sample belongs to the training set or the test set. We would like to use \n",
    "this data to train a classifier but it has been suspected that there is a \n",
    "correlation between training and test data. \n",
    "Your task is to create a Power BI dashboard (Report) with the goal of \n",
    "understanding, exploring and analyzing the data using appropriate diagrams, \n",
    "charts and indicators.\n",
    "\n",
    "Additionally, please include an analysis of your method and results, \n",
    "with possible topics including:\n",
    "    - your process of thought, i.e., how did you come to your solution?\n",
    "    - properties of the artificially generated data set\n",
    "    - strengths of your method: why does it produce a reasonable result?\n",
    "    - weaknesses of your method: when would the method produce inaccurate results?\n",
    "    - your choice of the design language and its influences in the report\n",
    "\n",
    "Technical Requirements\n",
    "-----------------------------------\n",
    "Please submit *one* ZIP file that contains the following:\n",
    "    - The Power BI report file\n",
    "    - The description/analysis document\n"
   ]
  },
  {
   "cell_type": "code",
   "execution_count": 40,
   "metadata": {},
   "outputs": [],
   "source": [
    "import pandas as pd\n",
    "import numpy as np\n",
    "import datetime"
   ]
  },
  {
   "cell_type": "code",
   "execution_count": 53,
   "metadata": {},
   "outputs": [],
   "source": [
    "## importing clustering libraries\n",
    "\n",
    "from sklearn.linear_model import LogisticRegression\n",
    "from sklearn.discriminant_analysis import LinearDiscriminantAnalysis\n",
    "from sklearn.neighbors import KNeighborsClassifier\n",
    "from sklearn.naive_bayes import GaussianNB\n",
    "from sklearn.tree import DecisionTreeClassifier\n",
    "from sklearn.svm import SVC"
   ]
  },
  {
   "cell_type": "code",
   "execution_count": 5,
   "metadata": {},
   "outputs": [
    {
     "name": "stdout",
     "output_type": "stream",
     "text": [
      "[WinError 123] Die Syntax für den Dateinamen, Verzeichnisnamen oder die Datenträgerbezeichnung ist falsch: \"'C:\\\\\\\\Users\\\\\\\\dardeer\\\\\\\\Desktop\\\\\\\\job application\\\\\\\\tableau dashboards\\\\\\\\powerbi-task'\"\n",
      "C:\\Users\\dardeer\\Desktop\\job application\\tableau dashboards\\powerbi-task\n"
     ]
    }
   ],
   "source": [
    "cd 'C:\\\\Users\\\\dardeer\\\\Desktop\\\\job application\\\\tableau dashboards\\\\powerbi-task'"
   ]
  },
  {
   "cell_type": "code",
   "execution_count": 7,
   "metadata": {},
   "outputs": [],
   "source": [
    "data=pd.read_csv(\"data.csv\")"
   ]
  },
  {
   "cell_type": "code",
   "execution_count": 9,
   "metadata": {},
   "outputs": [
    {
     "data": {
      "text/html": [
       "<div>\n",
       "<style scoped>\n",
       "    .dataframe tbody tr th:only-of-type {\n",
       "        vertical-align: middle;\n",
       "    }\n",
       "\n",
       "    .dataframe tbody tr th {\n",
       "        vertical-align: top;\n",
       "    }\n",
       "\n",
       "    .dataframe thead th {\n",
       "        text-align: right;\n",
       "    }\n",
       "</style>\n",
       "<table border=\"1\" class=\"dataframe\">\n",
       "  <thead>\n",
       "    <tr style=\"text-align: right;\">\n",
       "      <th></th>\n",
       "      <th>defect_id</th>\n",
       "      <th>defect_type</th>\n",
       "      <th>material_grade</th>\n",
       "      <th>product_id</th>\n",
       "      <th>date</th>\n",
       "      <th>dataset</th>\n",
       "    </tr>\n",
       "  </thead>\n",
       "  <tbody>\n",
       "    <tr>\n",
       "      <th>0</th>\n",
       "      <td>96</td>\n",
       "      <td>1086</td>\n",
       "      <td>Grade 2</td>\n",
       "      <td>15429</td>\n",
       "      <td>2020-12-01</td>\n",
       "      <td>Training</td>\n",
       "    </tr>\n",
       "    <tr>\n",
       "      <th>1</th>\n",
       "      <td>999</td>\n",
       "      <td>1151</td>\n",
       "      <td>Grade KP</td>\n",
       "      <td>3405</td>\n",
       "      <td>2021-01-04</td>\n",
       "      <td>Training</td>\n",
       "    </tr>\n",
       "    <tr>\n",
       "      <th>2</th>\n",
       "      <td>1405</td>\n",
       "      <td>1098</td>\n",
       "      <td>Grade 2</td>\n",
       "      <td>1571</td>\n",
       "      <td>2020-12-15</td>\n",
       "      <td>Training</td>\n",
       "    </tr>\n",
       "    <tr>\n",
       "      <th>3</th>\n",
       "      <td>870</td>\n",
       "      <td>1098</td>\n",
       "      <td>Grade A</td>\n",
       "      <td>3851</td>\n",
       "      <td>2021-01-23</td>\n",
       "      <td>Training</td>\n",
       "    </tr>\n",
       "    <tr>\n",
       "      <th>4</th>\n",
       "      <td>6229</td>\n",
       "      <td>1045</td>\n",
       "      <td>Grade 2</td>\n",
       "      <td>4676</td>\n",
       "      <td>2020-12-02</td>\n",
       "      <td>Test</td>\n",
       "    </tr>\n",
       "    <tr>\n",
       "      <th>...</th>\n",
       "      <td>...</td>\n",
       "      <td>...</td>\n",
       "      <td>...</td>\n",
       "      <td>...</td>\n",
       "      <td>...</td>\n",
       "      <td>...</td>\n",
       "    </tr>\n",
       "    <tr>\n",
       "      <th>6617</th>\n",
       "      <td>3828</td>\n",
       "      <td>1078</td>\n",
       "      <td>Grade KP</td>\n",
       "      <td>206</td>\n",
       "      <td>2020-12-07</td>\n",
       "      <td>Training</td>\n",
       "    </tr>\n",
       "    <tr>\n",
       "      <th>6618</th>\n",
       "      <td>5289</td>\n",
       "      <td>1086</td>\n",
       "      <td>Grade 2</td>\n",
       "      <td>9822</td>\n",
       "      <td>2020-12-01</td>\n",
       "      <td>Test</td>\n",
       "    </tr>\n",
       "    <tr>\n",
       "      <th>6619</th>\n",
       "      <td>5324</td>\n",
       "      <td>1098</td>\n",
       "      <td>Grade 2</td>\n",
       "      <td>4710</td>\n",
       "      <td>2020-12-17</td>\n",
       "      <td>Test</td>\n",
       "    </tr>\n",
       "    <tr>\n",
       "      <th>6620</th>\n",
       "      <td>5504</td>\n",
       "      <td>1052</td>\n",
       "      <td>Grade 2</td>\n",
       "      <td>15453</td>\n",
       "      <td>2021-01-23</td>\n",
       "      <td>Test</td>\n",
       "    </tr>\n",
       "    <tr>\n",
       "      <th>6621</th>\n",
       "      <td>865</td>\n",
       "      <td>1098</td>\n",
       "      <td>Grade A</td>\n",
       "      <td>3851</td>\n",
       "      <td>2021-01-23</td>\n",
       "      <td>Training</td>\n",
       "    </tr>\n",
       "  </tbody>\n",
       "</table>\n",
       "<p>6622 rows × 6 columns</p>\n",
       "</div>"
      ],
      "text/plain": [
       "      defect_id  defect_type material_grade  product_id        date   dataset\n",
       "0            96         1086        Grade 2       15429  2020-12-01  Training\n",
       "1           999         1151       Grade KP        3405  2021-01-04  Training\n",
       "2          1405         1098        Grade 2        1571  2020-12-15  Training\n",
       "3           870         1098        Grade A        3851  2021-01-23  Training\n",
       "4          6229         1045        Grade 2        4676  2020-12-02      Test\n",
       "...         ...          ...            ...         ...         ...       ...\n",
       "6617       3828         1078       Grade KP         206  2020-12-07  Training\n",
       "6618       5289         1086        Grade 2        9822  2020-12-01      Test\n",
       "6619       5324         1098        Grade 2        4710  2020-12-17      Test\n",
       "6620       5504         1052        Grade 2       15453  2021-01-23      Test\n",
       "6621        865         1098        Grade A        3851  2021-01-23  Training\n",
       "\n",
       "[6622 rows x 6 columns]"
      ]
     },
     "execution_count": 9,
     "metadata": {},
     "output_type": "execute_result"
    }
   ],
   "source": [
    "data"
   ]
  },
  {
   "cell_type": "markdown",
   "metadata": {},
   "source": [
    "#### Assessing the Data"
   ]
  },
  {
   "cell_type": "code",
   "execution_count": 14,
   "metadata": {},
   "outputs": [
    {
     "data": {
      "text/plain": [
       "dataset\n",
       "Test        1606\n",
       "Training    5016\n",
       "Name: dataset, dtype: int64"
      ]
     },
     "execution_count": 14,
     "metadata": {},
     "output_type": "execute_result"
    }
   ],
   "source": [
    "data.dataset.groupby(data.dataset).count()"
   ]
  },
  {
   "cell_type": "code",
   "execution_count": 26,
   "metadata": {},
   "outputs": [
    {
     "data": {
      "text/plain": [
       "<matplotlib.axes._subplots.AxesSubplot at 0x1eadc6a7b88>"
      ]
     },
     "execution_count": 26,
     "metadata": {},
     "output_type": "execute_result"
    },
    {
     "data": {
      "image/png": "[encoded data removed]",
      "text/plain": [
       "<Figure size 432x288 with 1 Axes>"
      ]
     },
     "metadata": {
      "needs_background": "light"
     },
     "output_type": "display_data"
    }
   ],
   "source": [
    "data.defect_type.groupby(data.defect_type).count().sort_values().plot(kind='bar')"
   ]
  },
  {
   "cell_type": "code",
   "execution_count": 27,
   "metadata": {},
   "outputs": [
    {
     "data": {
      "text/plain": [
       "material_grade\n",
       "Grade 1      1270\n",
       "Grade 1P     1379\n",
       "Grade 2      1709\n",
       "Grade 2P      636\n",
       "Grade A       242\n",
       "Grade AP      233\n",
       "Grade B1      577\n",
       "Grade K1       29\n",
       "Grade KP      152\n",
       "Grade P1       37\n",
       "Grade W1       18\n",
       "Grade W1P      17\n",
       "Grade W2P       3\n",
       "Grade WP       33\n",
       "Name: material_grade, dtype: int64"
      ]
     },
     "execution_count": 27,
     "metadata": {},
     "output_type": "execute_result"
    }
   ],
   "source": [
    "data.material_grade.groupby(data.material_grade).count()"
   ]
  },
  {
   "cell_type": "code",
   "execution_count": 30,
   "metadata": {},
   "outputs": [
    {
     "data": {
      "text/plain": [
       "product_id\n",
       "1407    149\n",
       "8574    134\n",
       "3405    129\n",
       "3082    107\n",
       "7273    106\n",
       "       ... \n",
       "7618      1\n",
       "1924      1\n",
       "1892      1\n",
       "1880      1\n",
       "25        1\n",
       "Name: product_id, Length: 583, dtype: int64"
      ]
     },
     "execution_count": 30,
     "metadata": {},
     "output_type": "execute_result"
    }
   ],
   "source": [
    "data.product_id.groupby(data.product_id).count().sort_values(ascending=False)"
   ]
  },
  {
   "cell_type": "code",
   "execution_count": 32,
   "metadata": {},
   "outputs": [
    {
     "data": {
      "text/plain": [
       "0       2020-12-01\n",
       "1       2021-01-04\n",
       "2       2020-12-15\n",
       "3       2021-01-23\n",
       "4       2020-12-02\n",
       "           ...    \n",
       "6617    2020-12-07\n",
       "6618    2020-12-01\n",
       "6619    2020-12-17\n",
       "6620    2021-01-23\n",
       "6621    2021-01-23\n",
       "Name: date, Length: 6622, dtype: object"
      ]
     },
     "execution_count": 32,
     "metadata": {},
     "output_type": "execute_result"
    }
   ],
   "source": [
    "data.date"
   ]
  },
  {
   "cell_type": "markdown",
   "metadata": {},
   "source": [
    "### quality issue\n",
    "\n",
    "1. date type 'object' not 'datetime'\n",
    "\n",
    "solution\n",
    "\n",
    "pd.to_datetime() ref: https://pandas.pydata.org/pandas-docs/stable/reference/api/pandas.to_datetime.html\n",
    "sklearn: Scikit-learn: Machine Learning in Python, Pedregosa et al., JMLR 12, pp. 2825-2830, 2011.\n",
    "\n",
    "\n"
   ]
  },
  {
   "cell_type": "code",
   "execution_count": 38,
   "metadata": {},
   "outputs": [
    {
     "data": {
      "text/html": [
       "<div>\n",
       "<style scoped>\n",
       "    .dataframe tbody tr th:only-of-type {\n",
       "        vertical-align: middle;\n",
       "    }\n",
       "\n",
       "    .dataframe tbody tr th {\n",
       "        vertical-align: top;\n",
       "    }\n",
       "\n",
       "    .dataframe thead th {\n",
       "        text-align: right;\n",
       "    }\n",
       "</style>\n",
       "<table border=\"1\" class=\"dataframe\">\n",
       "  <thead>\n",
       "    <tr style=\"text-align: right;\">\n",
       "      <th></th>\n",
       "      <th>defect_id</th>\n",
       "      <th>defect_type</th>\n",
       "      <th>material_grade</th>\n",
       "      <th>product_id</th>\n",
       "      <th>date</th>\n",
       "      <th>dataset</th>\n",
       "    </tr>\n",
       "    <tr>\n",
       "      <th>date</th>\n",
       "      <th></th>\n",
       "      <th></th>\n",
       "      <th></th>\n",
       "      <th></th>\n",
       "      <th></th>\n",
       "      <th></th>\n",
       "    </tr>\n",
       "  </thead>\n",
       "  <tbody>\n",
       "    <tr>\n",
       "      <th>2020</th>\n",
       "      <td>3358</td>\n",
       "      <td>3358</td>\n",
       "      <td>3230</td>\n",
       "      <td>3358</td>\n",
       "      <td>3358</td>\n",
       "      <td>3358</td>\n",
       "    </tr>\n",
       "    <tr>\n",
       "      <th>2021</th>\n",
       "      <td>3264</td>\n",
       "      <td>3264</td>\n",
       "      <td>3105</td>\n",
       "      <td>3264</td>\n",
       "      <td>3264</td>\n",
       "      <td>3264</td>\n",
       "    </tr>\n",
       "  </tbody>\n",
       "</table>\n",
       "</div>"
      ],
      "text/plain": [
       "      defect_id  defect_type  material_grade  product_id  date  dataset\n",
       "date                                                                   \n",
       "2020       3358         3358            3230        3358  3358     3358\n",
       "2021       3264         3264            3105        3264  3264     3264"
      ]
     },
     "execution_count": 38,
     "metadata": {},
     "output_type": "execute_result"
    }
   ],
   "source": [
    "data.groupby(pd.DatetimeIndex(data['date']).year).count()"
   ]
  },
  {
   "cell_type": "code",
   "execution_count": 45,
   "metadata": {},
   "outputs": [
    {
     "data": {
      "text/html": [
       "<div>\n",
       "<style scoped>\n",
       "    .dataframe tbody tr th:only-of-type {\n",
       "        vertical-align: middle;\n",
       "    }\n",
       "\n",
       "    .dataframe tbody tr th {\n",
       "        vertical-align: top;\n",
       "    }\n",
       "\n",
       "    .dataframe thead th {\n",
       "        text-align: right;\n",
       "    }\n",
       "</style>\n",
       "<table border=\"1\" class=\"dataframe\">\n",
       "  <thead>\n",
       "    <tr style=\"text-align: right;\">\n",
       "      <th></th>\n",
       "      <th>defect_id</th>\n",
       "      <th>defect_type</th>\n",
       "      <th>material_grade</th>\n",
       "      <th>product_id</th>\n",
       "      <th>date</th>\n",
       "      <th>dataset</th>\n",
       "    </tr>\n",
       "    <tr>\n",
       "      <th>date</th>\n",
       "      <th></th>\n",
       "      <th></th>\n",
       "      <th></th>\n",
       "      <th></th>\n",
       "      <th></th>\n",
       "      <th></th>\n",
       "    </tr>\n",
       "  </thead>\n",
       "  <tbody>\n",
       "    <tr>\n",
       "      <th>2020-12</th>\n",
       "      <td>3358</td>\n",
       "      <td>3358</td>\n",
       "      <td>3230</td>\n",
       "      <td>3358</td>\n",
       "      <td>3358</td>\n",
       "      <td>3358</td>\n",
       "    </tr>\n",
       "    <tr>\n",
       "      <th>2021-01</th>\n",
       "      <td>3264</td>\n",
       "      <td>3264</td>\n",
       "      <td>3105</td>\n",
       "      <td>3264</td>\n",
       "      <td>3264</td>\n",
       "      <td>3264</td>\n",
       "    </tr>\n",
       "  </tbody>\n",
       "</table>\n",
       "</div>"
      ],
      "text/plain": [
       "         defect_id  defect_type  material_grade  product_id  date  dataset\n",
       "date                                                                      \n",
       "2020-12       3358         3358            3230        3358  3358     3358\n",
       "2021-01       3264         3264            3105        3264  3264     3264"
      ]
     },
     "execution_count": 45,
     "metadata": {},
     "output_type": "execute_result"
    }
   ],
   "source": [
    "data.groupby(pd.to_datetime(data['date']).dt.to_period('M')).count()\n",
    "\n",
    "\n",
    "# ref: https://www.interviewqs.com/ddi-code-snippets/extract-month-year-pandas"
   ]
  },
  {
   "cell_type": "code",
   "execution_count": 46,
   "metadata": {},
   "outputs": [
    {
     "data": {
      "text/plain": [
       "<matplotlib.axes._subplots.AxesSubplot at 0x1eadc782dc8>"
      ]
     },
     "execution_count": 46,
     "metadata": {},
     "output_type": "execute_result"
    },
    {
     "data": {
      "image/png": "[encoded data removed]",
      "text/plain": [
       "<Figure size 1440x1440 with 1 Axes>"
      ]
     },
     "metadata": {
      "needs_background": "light"
     },
     "output_type": "display_data"
    }
   ],
   "source": [
    "data.date.groupby(data.date).count().sort_values().plot(kind='bar',figsize=(20,20))"
   ]
  },
  {
   "cell_type": "markdown",
   "metadata": {},
   "source": [
    "#### Quality issue 2\n",
    "\n",
    "cann't corr two strings\n",
    "\n",
    "solution: \n",
    "change strings to categoral values to find corr then run the model on them \n",
    "\n"
   ]
  },
  {
   "cell_type": "code",
   "execution_count": null,
   "metadata": {},
   "outputs": [],
   "source": [
    "#change string to categoral to find the corr\n",
    "# ref: https://stackoverflow.com/questions/51241575/calculate-correlation-between-columns-of-strings/51241909\n",
    "clear['defect_type']=clear['defect_type'].astype('category').cat.codes\n",
    "clear['material_grade']=clear['material_grade'].astype('category').cat.codes\n",
    "clear.corr()"
   ]
  },
  {
   "cell_type": "markdown",
   "metadata": {},
   "source": [
    "#### split the database training and testing "
   ]
  },
  {
   "cell_type": "code",
   "execution_count": 51,
   "metadata": {},
   "outputs": [],
   "source": [
    "train=data[data['dataset']=='Training']\n",
    "test=data[data['dataset']=='Test']\n"
   ]
  },
  {
   "cell_type": "code",
   "execution_count": 52,
   "metadata": {},
   "outputs": [
    {
     "data": {
      "text/html": [
       "<div>\n",
       "<style scoped>\n",
       "    .dataframe tbody tr th:only-of-type {\n",
       "        vertical-align: middle;\n",
       "    }\n",
       "\n",
       "    .dataframe tbody tr th {\n",
       "        vertical-align: top;\n",
       "    }\n",
       "\n",
       "    .dataframe thead th {\n",
       "        text-align: right;\n",
       "    }\n",
       "</style>\n",
       "<table border=\"1\" class=\"dataframe\">\n",
       "  <thead>\n",
       "    <tr style=\"text-align: right;\">\n",
       "      <th></th>\n",
       "      <th>defect_id</th>\n",
       "      <th>defect_type</th>\n",
       "      <th>material_grade</th>\n",
       "      <th>product_id</th>\n",
       "      <th>date</th>\n",
       "      <th>dataset</th>\n",
       "    </tr>\n",
       "  </thead>\n",
       "  <tbody>\n",
       "    <tr>\n",
       "      <th>0</th>\n",
       "      <td>96</td>\n",
       "      <td>1086</td>\n",
       "      <td>Grade 2</td>\n",
       "      <td>15429</td>\n",
       "      <td>2020-12-01</td>\n",
       "      <td>Training</td>\n",
       "    </tr>\n",
       "    <tr>\n",
       "      <th>1</th>\n",
       "      <td>999</td>\n",
       "      <td>1151</td>\n",
       "      <td>Grade KP</td>\n",
       "      <td>3405</td>\n",
       "      <td>2021-01-04</td>\n",
       "      <td>Training</td>\n",
       "    </tr>\n",
       "    <tr>\n",
       "      <th>2</th>\n",
       "      <td>1405</td>\n",
       "      <td>1098</td>\n",
       "      <td>Grade 2</td>\n",
       "      <td>1571</td>\n",
       "      <td>2020-12-15</td>\n",
       "      <td>Training</td>\n",
       "    </tr>\n",
       "    <tr>\n",
       "      <th>3</th>\n",
       "      <td>870</td>\n",
       "      <td>1098</td>\n",
       "      <td>Grade A</td>\n",
       "      <td>3851</td>\n",
       "      <td>2021-01-23</td>\n",
       "      <td>Training</td>\n",
       "    </tr>\n",
       "    <tr>\n",
       "      <th>6</th>\n",
       "      <td>2187</td>\n",
       "      <td>1052</td>\n",
       "      <td>Grade 2</td>\n",
       "      <td>3692</td>\n",
       "      <td>2021-01-08</td>\n",
       "      <td>Training</td>\n",
       "    </tr>\n",
       "    <tr>\n",
       "      <th>...</th>\n",
       "      <td>...</td>\n",
       "      <td>...</td>\n",
       "      <td>...</td>\n",
       "      <td>...</td>\n",
       "      <td>...</td>\n",
       "      <td>...</td>\n",
       "    </tr>\n",
       "    <tr>\n",
       "      <th>6611</th>\n",
       "      <td>4482</td>\n",
       "      <td>1171</td>\n",
       "      <td>Grade 1P</td>\n",
       "      <td>6020</td>\n",
       "      <td>2021-01-27</td>\n",
       "      <td>Training</td>\n",
       "    </tr>\n",
       "    <tr>\n",
       "      <th>6613</th>\n",
       "      <td>471</td>\n",
       "      <td>1041</td>\n",
       "      <td>Grade 1</td>\n",
       "      <td>2699</td>\n",
       "      <td>2020-12-23</td>\n",
       "      <td>Training</td>\n",
       "    </tr>\n",
       "    <tr>\n",
       "      <th>6616</th>\n",
       "      <td>3148</td>\n",
       "      <td>1078</td>\n",
       "      <td>Grade 1</td>\n",
       "      <td>3423</td>\n",
       "      <td>2021-01-18</td>\n",
       "      <td>Training</td>\n",
       "    </tr>\n",
       "    <tr>\n",
       "      <th>6617</th>\n",
       "      <td>3828</td>\n",
       "      <td>1078</td>\n",
       "      <td>Grade KP</td>\n",
       "      <td>206</td>\n",
       "      <td>2020-12-07</td>\n",
       "      <td>Training</td>\n",
       "    </tr>\n",
       "    <tr>\n",
       "      <th>6621</th>\n",
       "      <td>865</td>\n",
       "      <td>1098</td>\n",
       "      <td>Grade A</td>\n",
       "      <td>3851</td>\n",
       "      <td>2021-01-23</td>\n",
       "      <td>Training</td>\n",
       "    </tr>\n",
       "  </tbody>\n",
       "</table>\n",
       "<p>5016 rows × 6 columns</p>\n",
       "</div>"
      ],
      "text/plain": [
       "      defect_id  defect_type material_grade  product_id        date   dataset\n",
       "0            96         1086        Grade 2       15429  2020-12-01  Training\n",
       "1           999         1151       Grade KP        3405  2021-01-04  Training\n",
       "2          1405         1098        Grade 2        1571  2020-12-15  Training\n",
       "3           870         1098        Grade A        3851  2021-01-23  Training\n",
       "6          2187         1052        Grade 2        3692  2021-01-08  Training\n",
       "...         ...          ...            ...         ...         ...       ...\n",
       "6611       4482         1171       Grade 1P        6020  2021-01-27  Training\n",
       "6613        471         1041        Grade 1        2699  2020-12-23  Training\n",
       "6616       3148         1078        Grade 1        3423  2021-01-18  Training\n",
       "6617       3828         1078       Grade KP         206  2020-12-07  Training\n",
       "6621        865         1098        Grade A        3851  2021-01-23  Training\n",
       "\n",
       "[5016 rows x 6 columns]"
      ]
     },
     "execution_count": 52,
     "metadata": {},
     "output_type": "execute_result"
    }
   ],
   "source": [
    "train"
   ]
  },
  {
   "cell_type": "code",
   "execution_count": 58,
   "metadata": {},
   "outputs": [],
   "source": [
    "## data prepration splitting between features and labels\n",
    "\n",
    "labels=train['defect_type']\n",
    "features=train[['material_grade']]"
   ]
  },
  {
   "cell_type": "raw",
   "metadata": {},
   "source": [
    "## classifiers "
   ]
  },
  {
   "cell_type": "code",
   "execution_count": 59,
   "metadata": {},
   "outputs": [],
   "source": [
    "logreg_clf = LogisticRegression()"
   ]
  },
  {
   "cell_type": "code",
   "execution_count": 60,
   "metadata": {},
   "outputs": [
    {
     "ename": "ValueError",
     "evalue": "could not convert string to float: 'Grade 2'",
     "output_type": "error",
     "traceback": [
      "\u001b[1;31m---------------------------------------------------------------------------\u001b[0m",
      "\u001b[1;31mValueError\u001b[0m                                Traceback (most recent call last)",
      "\u001b[1;32m<ipython-input-60-80e3bbe4378b>\u001b[0m in \u001b[0;36m<module>\u001b[1;34m\u001b[0m\n\u001b[1;32m----> 1\u001b[1;33m \u001b[0mlogreg_clf\u001b[0m\u001b[1;33m.\u001b[0m\u001b[0mfit\u001b[0m\u001b[1;33m(\u001b[0m\u001b[0mfeatures\u001b[0m\u001b[1;33m,\u001b[0m \u001b[0mlabels\u001b[0m\u001b[1;33m)\u001b[0m\u001b[1;33m\u001b[0m\u001b[1;33m\u001b[0m\u001b[0m\n\u001b[0m",
      "\u001b[1;32mC:\\ProgramData\\Anaconda3\\lib\\site-packages\\sklearn\\linear_model\\_logistic.py\u001b[0m in \u001b[0;36mfit\u001b[1;34m(self, X, y, sample_weight)\u001b[0m\n\u001b[0;32m   1525\u001b[0m \u001b[1;33m\u001b[0m\u001b[0m\n\u001b[0;32m   1526\u001b[0m         X, y = check_X_y(X, y, accept_sparse='csr', dtype=_dtype, order=\"C\",\n\u001b[1;32m-> 1527\u001b[1;33m                          accept_large_sparse=solver != 'liblinear')\n\u001b[0m\u001b[0;32m   1528\u001b[0m         \u001b[0mcheck_classification_targets\u001b[0m\u001b[1;33m(\u001b[0m\u001b[0my\u001b[0m\u001b[1;33m)\u001b[0m\u001b[1;33m\u001b[0m\u001b[1;33m\u001b[0m\u001b[0m\n\u001b[0;32m   1529\u001b[0m         \u001b[0mself\u001b[0m\u001b[1;33m.\u001b[0m\u001b[0mclasses_\u001b[0m \u001b[1;33m=\u001b[0m \u001b[0mnp\u001b[0m\u001b[1;33m.\u001b[0m\u001b[0munique\u001b[0m\u001b[1;33m(\u001b[0m\u001b[0my\u001b[0m\u001b[1;33m)\u001b[0m\u001b[1;33m\u001b[0m\u001b[1;33m\u001b[0m\u001b[0m\n",
      "\u001b[1;32mC:\\ProgramData\\Anaconda3\\lib\\site-packages\\sklearn\\utils\\validation.py\u001b[0m in \u001b[0;36mcheck_X_y\u001b[1;34m(X, y, accept_sparse, accept_large_sparse, dtype, order, copy, force_all_finite, ensure_2d, allow_nd, multi_output, ensure_min_samples, ensure_min_features, y_numeric, warn_on_dtype, estimator)\u001b[0m\n\u001b[0;32m    753\u001b[0m                     \u001b[0mensure_min_features\u001b[0m\u001b[1;33m=\u001b[0m\u001b[0mensure_min_features\u001b[0m\u001b[1;33m,\u001b[0m\u001b[1;33m\u001b[0m\u001b[1;33m\u001b[0m\u001b[0m\n\u001b[0;32m    754\u001b[0m                     \u001b[0mwarn_on_dtype\u001b[0m\u001b[1;33m=\u001b[0m\u001b[0mwarn_on_dtype\u001b[0m\u001b[1;33m,\u001b[0m\u001b[1;33m\u001b[0m\u001b[1;33m\u001b[0m\u001b[0m\n\u001b[1;32m--> 755\u001b[1;33m                     estimator=estimator)\n\u001b[0m\u001b[0;32m    756\u001b[0m     \u001b[1;32mif\u001b[0m \u001b[0mmulti_output\u001b[0m\u001b[1;33m:\u001b[0m\u001b[1;33m\u001b[0m\u001b[1;33m\u001b[0m\u001b[0m\n\u001b[0;32m    757\u001b[0m         y = check_array(y, 'csr', force_all_finite=True, ensure_2d=False,\n",
      "\u001b[1;32mC:\\ProgramData\\Anaconda3\\lib\\site-packages\\sklearn\\utils\\validation.py\u001b[0m in \u001b[0;36mcheck_array\u001b[1;34m(array, accept_sparse, accept_large_sparse, dtype, order, copy, force_all_finite, ensure_2d, allow_nd, ensure_min_samples, ensure_min_features, warn_on_dtype, estimator)\u001b[0m\n\u001b[0;32m    529\u001b[0m                     \u001b[0marray\u001b[0m \u001b[1;33m=\u001b[0m \u001b[0marray\u001b[0m\u001b[1;33m.\u001b[0m\u001b[0mastype\u001b[0m\u001b[1;33m(\u001b[0m\u001b[0mdtype\u001b[0m\u001b[1;33m,\u001b[0m \u001b[0mcasting\u001b[0m\u001b[1;33m=\u001b[0m\u001b[1;34m\"unsafe\"\u001b[0m\u001b[1;33m,\u001b[0m \u001b[0mcopy\u001b[0m\u001b[1;33m=\u001b[0m\u001b[1;32mFalse\u001b[0m\u001b[1;33m)\u001b[0m\u001b[1;33m\u001b[0m\u001b[1;33m\u001b[0m\u001b[0m\n\u001b[0;32m    530\u001b[0m                 \u001b[1;32melse\u001b[0m\u001b[1;33m:\u001b[0m\u001b[1;33m\u001b[0m\u001b[1;33m\u001b[0m\u001b[0m\n\u001b[1;32m--> 531\u001b[1;33m                     \u001b[0marray\u001b[0m \u001b[1;33m=\u001b[0m \u001b[0mnp\u001b[0m\u001b[1;33m.\u001b[0m\u001b[0masarray\u001b[0m\u001b[1;33m(\u001b[0m\u001b[0marray\u001b[0m\u001b[1;33m,\u001b[0m \u001b[0morder\u001b[0m\u001b[1;33m=\u001b[0m\u001b[0morder\u001b[0m\u001b[1;33m,\u001b[0m \u001b[0mdtype\u001b[0m\u001b[1;33m=\u001b[0m\u001b[0mdtype\u001b[0m\u001b[1;33m)\u001b[0m\u001b[1;33m\u001b[0m\u001b[1;33m\u001b[0m\u001b[0m\n\u001b[0m\u001b[0;32m    532\u001b[0m             \u001b[1;32mexcept\u001b[0m \u001b[0mComplexWarning\u001b[0m\u001b[1;33m:\u001b[0m\u001b[1;33m\u001b[0m\u001b[1;33m\u001b[0m\u001b[0m\n\u001b[0;32m    533\u001b[0m                 raise ValueError(\"Complex data not supported\\n\"\n",
      "\u001b[1;32mC:\\ProgramData\\Anaconda3\\lib\\site-packages\\numpy\\core\\_asarray.py\u001b[0m in \u001b[0;36masarray\u001b[1;34m(a, dtype, order)\u001b[0m\n\u001b[0;32m     83\u001b[0m \u001b[1;33m\u001b[0m\u001b[0m\n\u001b[0;32m     84\u001b[0m     \"\"\"\n\u001b[1;32m---> 85\u001b[1;33m     \u001b[1;32mreturn\u001b[0m \u001b[0marray\u001b[0m\u001b[1;33m(\u001b[0m\u001b[0ma\u001b[0m\u001b[1;33m,\u001b[0m \u001b[0mdtype\u001b[0m\u001b[1;33m,\u001b[0m \u001b[0mcopy\u001b[0m\u001b[1;33m=\u001b[0m\u001b[1;32mFalse\u001b[0m\u001b[1;33m,\u001b[0m \u001b[0morder\u001b[0m\u001b[1;33m=\u001b[0m\u001b[0morder\u001b[0m\u001b[1;33m)\u001b[0m\u001b[1;33m\u001b[0m\u001b[1;33m\u001b[0m\u001b[0m\n\u001b[0m\u001b[0;32m     86\u001b[0m \u001b[1;33m\u001b[0m\u001b[0m\n\u001b[0;32m     87\u001b[0m \u001b[1;33m\u001b[0m\u001b[0m\n",
      "\u001b[1;31mValueError\u001b[0m: could not convert string to float: 'Grade 2'"
     ]
    }
   ],
   "source": [
    "logreg_clf.fit(features, labels)"
   ]
  },
  {
   "cell_type": "code",
   "execution_count": 71,
   "metadata": {},
   "outputs": [],
   "source": [
    "clear=train[['defect_type','material_grade']]"
   ]
  },
  {
   "cell_type": "code",
   "execution_count": 74,
   "metadata": {},
   "outputs": [
    {
     "name": "stderr",
     "output_type": "stream",
     "text": [
      "C:\\ProgramData\\Anaconda3\\lib\\site-packages\\ipykernel_launcher.py:1: SettingWithCopyWarning: \n",
      "A value is trying to be set on a copy of a slice from a DataFrame.\n",
      "Try using .loc[row_indexer,col_indexer] = value instead\n",
      "\n",
      "See the caveats in the documentation: https://pandas.pydata.org/pandas-docs/stable/user_guide/indexing.html#returning-a-view-versus-a-copy\n",
      "  \"\"\"Entry point for launching an IPython kernel.\n",
      "C:\\ProgramData\\Anaconda3\\lib\\site-packages\\ipykernel_launcher.py:2: SettingWithCopyWarning: \n",
      "A value is trying to be set on a copy of a slice from a DataFrame.\n",
      "Try using .loc[row_indexer,col_indexer] = value instead\n",
      "\n",
      "See the caveats in the documentation: https://pandas.pydata.org/pandas-docs/stable/user_guide/indexing.html#returning-a-view-versus-a-copy\n",
      "  \n"
     ]
    },
    {
     "data": {
      "text/html": [
       "<div>\n",
       "<style scoped>\n",
       "    .dataframe tbody tr th:only-of-type {\n",
       "        vertical-align: middle;\n",
       "    }\n",
       "\n",
       "    .dataframe tbody tr th {\n",
       "        vertical-align: top;\n",
       "    }\n",
       "\n",
       "    .dataframe thead th {\n",
       "        text-align: right;\n",
       "    }\n",
       "</style>\n",
       "<table border=\"1\" class=\"dataframe\">\n",
       "  <thead>\n",
       "    <tr style=\"text-align: right;\">\n",
       "      <th></th>\n",
       "      <th>defect_type</th>\n",
       "      <th>material_grade</th>\n",
       "    </tr>\n",
       "  </thead>\n",
       "  <tbody>\n",
       "    <tr>\n",
       "      <th>defect_type</th>\n",
       "      <td>1.000000</td>\n",
       "      <td>0.030642</td>\n",
       "    </tr>\n",
       "    <tr>\n",
       "      <th>material_grade</th>\n",
       "      <td>0.030642</td>\n",
       "      <td>1.000000</td>\n",
       "    </tr>\n",
       "  </tbody>\n",
       "</table>\n",
       "</div>"
      ],
      "text/plain": [
       "                defect_type  material_grade\n",
       "defect_type        1.000000        0.030642\n",
       "material_grade     0.030642        1.000000"
      ]
     },
     "execution_count": 74,
     "metadata": {},
     "output_type": "execute_result"
    }
   ],
   "source": [
    "#change string to categoral to find the corr\n",
    "# ref: https://stackoverflow.com/questions/51241575/calculate-correlation-between-columns-of-strings/51241909\n",
    "clear['defect_type']=clear['defect_type'].astype('category').cat.codes\n",
    "clear['material_grade']=clear['material_grade'].astype('category').cat.codes\n",
    "clear.corr()"
   ]
  },
  {
   "cell_type": "code",
   "execution_count": 75,
   "metadata": {},
   "outputs": [
    {
     "data": {
      "text/html": [
       "<div>\n",
       "<style scoped>\n",
       "    .dataframe tbody tr th:only-of-type {\n",
       "        vertical-align: middle;\n",
       "    }\n",
       "\n",
       "    .dataframe tbody tr th {\n",
       "        vertical-align: top;\n",
       "    }\n",
       "\n",
       "    .dataframe thead th {\n",
       "        text-align: right;\n",
       "    }\n",
       "</style>\n",
       "<table border=\"1\" class=\"dataframe\">\n",
       "  <thead>\n",
       "    <tr style=\"text-align: right;\">\n",
       "      <th></th>\n",
       "      <th>defect_type</th>\n",
       "      <th>material_grade</th>\n",
       "    </tr>\n",
       "  </thead>\n",
       "  <tbody>\n",
       "    <tr>\n",
       "      <th>0</th>\n",
       "      <td>16</td>\n",
       "      <td>2</td>\n",
       "    </tr>\n",
       "    <tr>\n",
       "      <th>1</th>\n",
       "      <td>19</td>\n",
       "      <td>8</td>\n",
       "    </tr>\n",
       "    <tr>\n",
       "      <th>2</th>\n",
       "      <td>17</td>\n",
       "      <td>2</td>\n",
       "    </tr>\n",
       "    <tr>\n",
       "      <th>3</th>\n",
       "      <td>17</td>\n",
       "      <td>4</td>\n",
       "    </tr>\n",
       "    <tr>\n",
       "      <th>6</th>\n",
       "      <td>7</td>\n",
       "      <td>2</td>\n",
       "    </tr>\n",
       "    <tr>\n",
       "      <th>...</th>\n",
       "      <td>...</td>\n",
       "      <td>...</td>\n",
       "    </tr>\n",
       "    <tr>\n",
       "      <th>6611</th>\n",
       "      <td>20</td>\n",
       "      <td>1</td>\n",
       "    </tr>\n",
       "    <tr>\n",
       "      <th>6613</th>\n",
       "      <td>5</td>\n",
       "      <td>0</td>\n",
       "    </tr>\n",
       "    <tr>\n",
       "      <th>6616</th>\n",
       "      <td>13</td>\n",
       "      <td>0</td>\n",
       "    </tr>\n",
       "    <tr>\n",
       "      <th>6617</th>\n",
       "      <td>13</td>\n",
       "      <td>8</td>\n",
       "    </tr>\n",
       "    <tr>\n",
       "      <th>6621</th>\n",
       "      <td>17</td>\n",
       "      <td>4</td>\n",
       "    </tr>\n",
       "  </tbody>\n",
       "</table>\n",
       "<p>5016 rows × 2 columns</p>\n",
       "</div>"
      ],
      "text/plain": [
       "      defect_type  material_grade\n",
       "0              16               2\n",
       "1              19               8\n",
       "2              17               2\n",
       "3              17               4\n",
       "6               7               2\n",
       "...           ...             ...\n",
       "6611           20               1\n",
       "6613            5               0\n",
       "6616           13               0\n",
       "6617           13               8\n",
       "6621           17               4\n",
       "\n",
       "[5016 rows x 2 columns]"
      ]
     },
     "execution_count": 75,
     "metadata": {},
     "output_type": "execute_result"
    }
   ],
   "source": [
    "clear"
   ]
  },
  {
   "cell_type": "code",
   "execution_count": null,
   "metadata": {},
   "outputs": [],
   "source": []
  }
 ],
 "metadata": {
  "kernelspec": {
   "display_name": "Python 3",
   "language": "python",
   "name": "python3"
  },
  "language_info": {
   "codemirror_mode": {
    "name": "ipython",
    "version": 3
   },
   "file_extension": ".py",
   "mimetype": "text/x-python",
   "name": "python",
   "nbconvert_exporter": "python",
   "pygments_lexer": "ipython3",
   "version": "3.7.6"
  }
 },
 "nbformat": 4,
 "nbformat_minor": 4
}
